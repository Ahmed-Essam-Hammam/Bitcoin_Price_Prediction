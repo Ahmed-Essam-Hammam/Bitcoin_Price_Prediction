{
 "cells": [
  {
   "cell_type": "code",
   "execution_count": 1,
   "metadata": {
    "id": "Aks6h22WH0R_"
   },
   "outputs": [],
   "source": [
    "import pandas as pd\n",
    "import numpy as np\n",
    "import matplotlib.pyplot as plt\n",
    "import requests\n",
    "\n",
    "from keras.layers import Dense, Dropout, LSTM\n",
    "from keras.models import Sequential\n",
    "from sklearn.preprocessing import MinMaxScaler"
   ]
  },
  {
   "cell_type": "code",
   "execution_count": 2,
   "metadata": {
    "id": "9ZO08gFeIa65"
   },
   "outputs": [],
   "source": [
    "api_key = ''\n",
    "symbol = 'BTC/USD'\n",
    "interval = '5min'\n",
    "order = 'asc'\n",
    "start_date = '2024-10-1 00:00:00'\n",
    "end_date = '2024-11-18 00:00:00'\n",
    "\n",
    "api_url = f'https://api.twelvedata.com/time_series?symbol={symbol}&start_date={start_date}&end_date={end_date}&interval={interval}&order={order}&apikey={api_key}'\n"
   ]
  },
  {
   "cell_type": "code",
   "execution_count": 3,
   "metadata": {
    "colab": {
     "base_uri": "https://localhost:8080/",
     "height": 424
    },
    "id": "2mdJDHjncPCJ",
    "outputId": "4822ebe3-f0f3-43f1-edb9-c240c9fc0a12"
   },
   "outputs": [
    {
     "data": {
      "text/html": [
       "<div>\n",
       "<style scoped>\n",
       "    .dataframe tbody tr th:only-of-type {\n",
       "        vertical-align: middle;\n",
       "    }\n",
       "\n",
       "    .dataframe tbody tr th {\n",
       "        vertical-align: top;\n",
       "    }\n",
       "\n",
       "    .dataframe thead th {\n",
       "        text-align: right;\n",
       "    }\n",
       "</style>\n",
       "<table border=\"1\" class=\"dataframe\">\n",
       "  <thead>\n",
       "    <tr style=\"text-align: right;\">\n",
       "      <th></th>\n",
       "      <th>datetime</th>\n",
       "      <th>open</th>\n",
       "      <th>high</th>\n",
       "      <th>low</th>\n",
       "      <th>close</th>\n",
       "    </tr>\n",
       "  </thead>\n",
       "  <tbody>\n",
       "    <tr>\n",
       "      <th>0</th>\n",
       "      <td>2024-10-31 15:15:00</td>\n",
       "      <td>70729.69</td>\n",
       "      <td>70961.09</td>\n",
       "      <td>70707.27</td>\n",
       "      <td>70874.53</td>\n",
       "    </tr>\n",
       "    <tr>\n",
       "      <th>1</th>\n",
       "      <td>2024-10-31 15:20:00</td>\n",
       "      <td>70874.53</td>\n",
       "      <td>71009.9</td>\n",
       "      <td>70813.64</td>\n",
       "      <td>70956.22</td>\n",
       "    </tr>\n",
       "    <tr>\n",
       "      <th>2</th>\n",
       "      <td>2024-10-31 15:25:00</td>\n",
       "      <td>70956.21</td>\n",
       "      <td>70958.17</td>\n",
       "      <td>70823.97</td>\n",
       "      <td>70825.99</td>\n",
       "    </tr>\n",
       "    <tr>\n",
       "      <th>3</th>\n",
       "      <td>2024-10-31 15:30:00</td>\n",
       "      <td>70825.99</td>\n",
       "      <td>70884.72</td>\n",
       "      <td>70705.33</td>\n",
       "      <td>70810.83</td>\n",
       "    </tr>\n",
       "    <tr>\n",
       "      <th>4</th>\n",
       "      <td>2024-10-31 15:35:00</td>\n",
       "      <td>70810.83</td>\n",
       "      <td>70831.25</td>\n",
       "      <td>70720.07</td>\n",
       "      <td>70720.99</td>\n",
       "    </tr>\n",
       "    <tr>\n",
       "      <th>...</th>\n",
       "      <td>...</td>\n",
       "      <td>...</td>\n",
       "      <td>...</td>\n",
       "      <td>...</td>\n",
       "      <td>...</td>\n",
       "    </tr>\n",
       "    <tr>\n",
       "      <th>4995</th>\n",
       "      <td>2024-11-17 23:40:00</td>\n",
       "      <td>89656.05</td>\n",
       "      <td>89725.61</td>\n",
       "      <td>89650.02</td>\n",
       "      <td>89724.47</td>\n",
       "    </tr>\n",
       "    <tr>\n",
       "      <th>4996</th>\n",
       "      <td>2024-11-17 23:45:00</td>\n",
       "      <td>89713.88</td>\n",
       "      <td>89838.21</td>\n",
       "      <td>89668</td>\n",
       "      <td>89808.42</td>\n",
       "    </tr>\n",
       "    <tr>\n",
       "      <th>4997</th>\n",
       "      <td>2024-11-17 23:50:00</td>\n",
       "      <td>89807.62</td>\n",
       "      <td>89895.81</td>\n",
       "      <td>89771.53</td>\n",
       "      <td>89775.6</td>\n",
       "    </tr>\n",
       "    <tr>\n",
       "      <th>4998</th>\n",
       "      <td>2024-11-17 23:55:00</td>\n",
       "      <td>89787.17</td>\n",
       "      <td>89894.25</td>\n",
       "      <td>89787.17</td>\n",
       "      <td>89886.69</td>\n",
       "    </tr>\n",
       "    <tr>\n",
       "      <th>4999</th>\n",
       "      <td>2024-11-18 00:00:00</td>\n",
       "      <td>89877.11</td>\n",
       "      <td>89900</td>\n",
       "      <td>89727.78</td>\n",
       "      <td>89849.58</td>\n",
       "    </tr>\n",
       "  </tbody>\n",
       "</table>\n",
       "<p>5000 rows × 5 columns</p>\n",
       "</div>"
      ],
      "text/plain": [
       "                 datetime      open      high       low     close\n",
       "0     2024-10-31 15:15:00  70729.69  70961.09  70707.27  70874.53\n",
       "1     2024-10-31 15:20:00  70874.53   71009.9  70813.64  70956.22\n",
       "2     2024-10-31 15:25:00  70956.21  70958.17  70823.97  70825.99\n",
       "3     2024-10-31 15:30:00  70825.99  70884.72  70705.33  70810.83\n",
       "4     2024-10-31 15:35:00  70810.83  70831.25  70720.07  70720.99\n",
       "...                   ...       ...       ...       ...       ...\n",
       "4995  2024-11-17 23:40:00  89656.05  89725.61  89650.02  89724.47\n",
       "4996  2024-11-17 23:45:00  89713.88  89838.21     89668  89808.42\n",
       "4997  2024-11-17 23:50:00  89807.62  89895.81  89771.53   89775.6\n",
       "4998  2024-11-17 23:55:00  89787.17  89894.25  89787.17  89886.69\n",
       "4999  2024-11-18 00:00:00  89877.11     89900  89727.78  89849.58\n",
       "\n",
       "[5000 rows x 5 columns]"
      ]
     },
     "execution_count": 3,
     "metadata": {},
     "output_type": "execute_result"
    }
   ],
   "source": [
    "data = requests.get(api_url).json()\n",
    "data = pd.DataFrame(data['values'])\n",
    "data"
   ]
  },
  {
   "cell_type": "code",
   "execution_count": 4,
   "metadata": {
    "colab": {
     "base_uri": "https://localhost:8080/"
    },
    "id": "jKMLRHi-cwgg",
    "outputId": "4ef89ac5-18d2-43f6-bee1-fd1b55185461"
   },
   "outputs": [
    {
     "data": {
      "text/plain": [
       "5000"
      ]
     },
     "execution_count": 4,
     "metadata": {},
     "output_type": "execute_result"
    }
   ],
   "source": [
    "scalar = MinMaxScaler(feature_range= (0, 1))\n",
    "scaled_data = scalar.fit_transform(data['close'].values.reshape(-1, 1))\n",
    "len(scaled_data)"
   ]
  },
  {
   "cell_type": "code",
   "execution_count": 5,
   "metadata": {
    "id": "2D1aaJjudX_O"
   },
   "outputs": [],
   "source": [
    "time_train = 24\n",
    "time_predict = 12\n",
    "\n",
    "x_train = []\n",
    "y_train = []\n",
    "\n",
    "for i in range(time_train, len(scaled_data)-time_predict):\n",
    "    x_train.append(scaled_data[i - time_train:i, 0])\n",
    "    y_train.append(scaled_data[i + time_predict, 0])\n",
    "\n",
    "\n",
    "x_train = np.array(x_train)\n",
    "y_train = np.array(y_train)"
   ]
  },
  {
   "cell_type": "code",
   "execution_count": 6,
   "metadata": {
    "colab": {
     "base_uri": "https://localhost:8080/"
    },
    "id": "AOJKBxgZf6nX",
    "outputId": "1322e5e2-1cae-4662-f3d8-d084bdd82757"
   },
   "outputs": [
    {
     "data": {
      "text/plain": [
       "(4964, 24, 1)"
      ]
     },
     "execution_count": 6,
     "metadata": {},
     "output_type": "execute_result"
    }
   ],
   "source": [
    "x_train = np.reshape(x_train, (x_train.shape[0], x_train.shape[1], 1))\n",
    "x_train.shape"
   ]
  },
  {
   "cell_type": "code",
   "execution_count": 7,
   "metadata": {
    "id": "FOvNDQUIga1j"
   },
   "outputs": [],
   "source": [
    "model = Sequential()\n",
    "model.add(LSTM(128, input_shape=(x_train.shape[1], 1), activation= 'relu', return_sequences= True))\n",
    "model.add(Dropout(0.2))\n",
    "model.add(LSTM(64, activation= 'relu', return_sequences= True))\n",
    "model.add(Dropout(0.2))\n",
    "model.add(LSTM(32, activation= 'relu'))\n",
    "model.add(Dropout(0.2))\n",
    "model.add(Dense(1, activation = 'sigmoid'))"
   ]
  },
  {
   "cell_type": "code",
   "execution_count": 8,
   "metadata": {
    "id": "A4Ivm7c1hz21"
   },
   "outputs": [],
   "source": [
    "model.compile(loss = 'mse', optimizer = 'adam', metrics= ['accuracy'])"
   ]
  },
  {
   "cell_type": "code",
   "execution_count": 9,
   "metadata": {
    "colab": {
     "base_uri": "https://localhost:8080/"
    },
    "id": "eh-KtshyiARE",
    "outputId": "c2d9dbb5-0f0f-495e-c364-99c577fc0b34"
   },
   "outputs": [
    {
     "name": "stdout",
     "output_type": "stream",
     "text": [
      "Epoch 1/10\n",
      "156/156 [==============================] - 12s 55ms/step - loss: 0.0191 - accuracy: 4.0290e-04\n",
      "Epoch 2/10\n",
      "156/156 [==============================] - 9s 58ms/step - loss: 0.0019 - accuracy: 4.0290e-04\n",
      "Epoch 3/10\n",
      "156/156 [==============================] - 9s 57ms/step - loss: 0.0017 - accuracy: 4.0290e-04\n",
      "Epoch 4/10\n",
      "156/156 [==============================] - 9s 56ms/step - loss: 0.0017 - accuracy: 4.0290e-04\n",
      "Epoch 5/10\n",
      "156/156 [==============================] - 9s 56ms/step - loss: 0.0017 - accuracy: 4.0290e-04\n",
      "Epoch 6/10\n",
      "156/156 [==============================] - 9s 57ms/step - loss: 0.0017 - accuracy: 4.0290e-04\n",
      "Epoch 7/10\n",
      "156/156 [==============================] - 9s 59ms/step - loss: 0.0016 - accuracy: 4.0290e-04\n",
      "Epoch 8/10\n",
      "156/156 [==============================] - 9s 58ms/step - loss: 0.0016 - accuracy: 4.0290e-04\n",
      "Epoch 9/10\n",
      "156/156 [==============================] - 9s 56ms/step - loss: 0.0015 - accuracy: 4.0290e-04\n",
      "Epoch 10/10\n",
      "156/156 [==============================] - 9s 56ms/step - loss: 0.0015 - accuracy: 4.0290e-04\n"
     ]
    },
    {
     "data": {
      "text/plain": [
       "<keras.callbacks.History at 0x1df3df24c10>"
      ]
     },
     "execution_count": 9,
     "metadata": {},
     "output_type": "execute_result"
    }
   ],
   "source": [
    "model.fit(x_train, y_train, epochs = 10, verbose = 1)\n"
   ]
  },
  {
   "cell_type": "code",
   "execution_count": 11,
   "metadata": {
    "id": "SBxsm4o2w9ax"
   },
   "outputs": [],
   "source": [
    "start_date = '2024-11-18 00:00:00'\n",
    "end_date = '2024-11-23 00:00:00'\n",
    "\n",
    "api_url_hat = f'https://api.twelvedata.com/time_series?symbol={symbol}&start_date={start_date}&end_date={end_date}&interval={interval}&order={order}&apikey={api_key}'"
   ]
  },
  {
   "cell_type": "code",
   "execution_count": 12,
   "metadata": {
    "colab": {
     "base_uri": "https://localhost:8080/",
     "height": 424
    },
    "id": "byBnfErjxYW0",
    "outputId": "cbd3ecd9-0233-48c4-b89f-f0025be88251"
   },
   "outputs": [
    {
     "data": {
      "text/html": [
       "<div>\n",
       "<style scoped>\n",
       "    .dataframe tbody tr th:only-of-type {\n",
       "        vertical-align: middle;\n",
       "    }\n",
       "\n",
       "    .dataframe tbody tr th {\n",
       "        vertical-align: top;\n",
       "    }\n",
       "\n",
       "    .dataframe thead th {\n",
       "        text-align: right;\n",
       "    }\n",
       "</style>\n",
       "<table border=\"1\" class=\"dataframe\">\n",
       "  <thead>\n",
       "    <tr style=\"text-align: right;\">\n",
       "      <th></th>\n",
       "      <th>datetime</th>\n",
       "      <th>open</th>\n",
       "      <th>high</th>\n",
       "      <th>low</th>\n",
       "      <th>close</th>\n",
       "    </tr>\n",
       "  </thead>\n",
       "  <tbody>\n",
       "    <tr>\n",
       "      <th>0</th>\n",
       "      <td>2024-11-18 00:00:00</td>\n",
       "      <td>89877.11</td>\n",
       "      <td>89900</td>\n",
       "      <td>89727.78</td>\n",
       "      <td>89849.58</td>\n",
       "    </tr>\n",
       "    <tr>\n",
       "      <th>1</th>\n",
       "      <td>2024-11-18 00:05:00</td>\n",
       "      <td>89855</td>\n",
       "      <td>89985.47</td>\n",
       "      <td>89834.34</td>\n",
       "      <td>89890.68</td>\n",
       "    </tr>\n",
       "    <tr>\n",
       "      <th>2</th>\n",
       "      <td>2024-11-18 00:10:00</td>\n",
       "      <td>89890.67</td>\n",
       "      <td>89890.68</td>\n",
       "      <td>89640.83</td>\n",
       "      <td>89819.16</td>\n",
       "    </tr>\n",
       "    <tr>\n",
       "      <th>3</th>\n",
       "      <td>2024-11-18 00:15:00</td>\n",
       "      <td>89820.82</td>\n",
       "      <td>89867.4</td>\n",
       "      <td>89695.1</td>\n",
       "      <td>89767.08</td>\n",
       "    </tr>\n",
       "    <tr>\n",
       "      <th>4</th>\n",
       "      <td>2024-11-18 00:20:00</td>\n",
       "      <td>89771.12</td>\n",
       "      <td>89817.44</td>\n",
       "      <td>89672.04</td>\n",
       "      <td>89770.27</td>\n",
       "    </tr>\n",
       "    <tr>\n",
       "      <th>...</th>\n",
       "      <td>...</td>\n",
       "      <td>...</td>\n",
       "      <td>...</td>\n",
       "      <td>...</td>\n",
       "      <td>...</td>\n",
       "    </tr>\n",
       "    <tr>\n",
       "      <th>1436</th>\n",
       "      <td>2024-11-22 23:40:00</td>\n",
       "      <td>98899.93</td>\n",
       "      <td>98968.32</td>\n",
       "      <td>98857.73</td>\n",
       "      <td>98901.85</td>\n",
       "    </tr>\n",
       "    <tr>\n",
       "      <th>1437</th>\n",
       "      <td>2024-11-22 23:45:00</td>\n",
       "      <td>98901.86</td>\n",
       "      <td>99044.87</td>\n",
       "      <td>98901.85</td>\n",
       "      <td>99019.37</td>\n",
       "    </tr>\n",
       "    <tr>\n",
       "      <th>1438</th>\n",
       "      <td>2024-11-22 23:50:00</td>\n",
       "      <td>99019.36</td>\n",
       "      <td>99028.97</td>\n",
       "      <td>98927.49</td>\n",
       "      <td>98972.13</td>\n",
       "    </tr>\n",
       "    <tr>\n",
       "      <th>1439</th>\n",
       "      <td>2024-11-22 23:55:00</td>\n",
       "      <td>98972.12</td>\n",
       "      <td>99069.69</td>\n",
       "      <td>98972.12</td>\n",
       "      <td>99024.03</td>\n",
       "    </tr>\n",
       "    <tr>\n",
       "      <th>1440</th>\n",
       "      <td>2024-11-23 00:00:00</td>\n",
       "      <td>99024.03</td>\n",
       "      <td>99024.32</td>\n",
       "      <td>98902.88</td>\n",
       "      <td>98912.26</td>\n",
       "    </tr>\n",
       "  </tbody>\n",
       "</table>\n",
       "<p>1441 rows × 5 columns</p>\n",
       "</div>"
      ],
      "text/plain": [
       "                 datetime      open      high       low     close\n",
       "0     2024-11-18 00:00:00  89877.11     89900  89727.78  89849.58\n",
       "1     2024-11-18 00:05:00     89855  89985.47  89834.34  89890.68\n",
       "2     2024-11-18 00:10:00  89890.67  89890.68  89640.83  89819.16\n",
       "3     2024-11-18 00:15:00  89820.82   89867.4   89695.1  89767.08\n",
       "4     2024-11-18 00:20:00  89771.12  89817.44  89672.04  89770.27\n",
       "...                   ...       ...       ...       ...       ...\n",
       "1436  2024-11-22 23:40:00  98899.93  98968.32  98857.73  98901.85\n",
       "1437  2024-11-22 23:45:00  98901.86  99044.87  98901.85  99019.37\n",
       "1438  2024-11-22 23:50:00  99019.36  99028.97  98927.49  98972.13\n",
       "1439  2024-11-22 23:55:00  98972.12  99069.69  98972.12  99024.03\n",
       "1440  2024-11-23 00:00:00  99024.03  99024.32  98902.88  98912.26\n",
       "\n",
       "[1441 rows x 5 columns]"
      ]
     },
     "execution_count": 12,
     "metadata": {},
     "output_type": "execute_result"
    }
   ],
   "source": [
    "test_data = requests.get(api_url_hat).json()\n",
    "test_data = pd.DataFrame(test_data['values'])\n",
    "test_data"
   ]
  },
  {
   "cell_type": "code",
   "execution_count": 13,
   "metadata": {
    "colab": {
     "base_uri": "https://localhost:8080/"
    },
    "id": "cHhD1MYYx6sM",
    "outputId": "1d0c6900-c379-45df-cda6-7da65ed086e2"
   },
   "outputs": [
    {
     "data": {
      "text/plain": [
       "(1441,)"
      ]
     },
     "execution_count": 13,
     "metadata": {},
     "output_type": "execute_result"
    }
   ],
   "source": [
    "BCprices = pd.to_numeric(test_data['close'], errors= 'coerce').values\n",
    "scaled_test_data = test_data['close'].values.reshape(-1, 1)\n",
    "scaled_test_data = scalar.fit_transform(scaled_test_data)\n",
    "BCprices.shape\n"
   ]
  },
  {
   "cell_type": "code",
   "execution_count": 14,
   "metadata": {
    "colab": {
     "base_uri": "https://localhost:8080/"
    },
    "id": "K9MlOBf1zuBJ",
    "outputId": "01c9f32d-7294-4ede-a6c5-b4bf79cc55e8"
   },
   "outputs": [
    {
     "data": {
      "text/plain": [
       "(1417, 24, 1)"
      ]
     },
     "execution_count": 14,
     "metadata": {},
     "output_type": "execute_result"
    }
   ],
   "source": [
    "x_test = []\n",
    "\n",
    "for x in range (time_train, len(scaled_test_data)):\n",
    "    x_test.append(scaled_test_data[x - time_train:x, 0])\n",
    "\n",
    "x_test = np.array(x_test)\n",
    "x_test = np.reshape(x_test, (x_test.shape[0], x_test.shape[1], 1))\n",
    "x_test.shape\n"
   ]
  },
  {
   "cell_type": "code",
   "execution_count": 15,
   "metadata": {
    "colab": {
     "base_uri": "https://localhost:8080/"
    },
    "id": "jqU-yFRY465u",
    "outputId": "84d9c751-da83-4ee6-8223-faf71a6b7580"
   },
   "outputs": [
    {
     "name": "stdout",
     "output_type": "stream",
     "text": [
      "45/45 [==============================] - 1s 18ms/step\n"
     ]
    },
    {
     "data": {
      "text/plain": [
       "array([[90205.91],\n",
       "       [90266.06],\n",
       "       [90327.12],\n",
       "       ...,\n",
       "       [99017.32],\n",
       "       [99008.5 ],\n",
       "       [99000.54]], dtype=float32)"
      ]
     },
     "execution_count": 15,
     "metadata": {},
     "output_type": "execute_result"
    }
   ],
   "source": [
    "predicted_price = model.predict(x_test)\n",
    "predicted_price = scalar.inverse_transform(predicted_price)\n",
    "predicted_price"
   ]
  },
  {
   "cell_type": "code",
   "execution_count": 16,
   "metadata": {
    "id": "_wq1wiE3LVjJ"
   },
   "outputs": [],
   "source": [
    "predicted_price = np.insert(predicted_price, 0, np.repeat(np.nan, time_train))"
   ]
  },
  {
   "cell_type": "code",
   "execution_count": 17,
   "metadata": {
    "colab": {
     "base_uri": "https://localhost:8080/",
     "height": 313
    },
    "id": "1zMLPx7B89ZQ",
    "outputId": "c942d040-6263-4049-f417-8df9e1d8b3fc"
   },
   "outputs": [
    {
     "data": {
      "text/plain": [
       "<matplotlib.legend.Legend at 0x1df461a2110>"
      ]
     },
     "execution_count": 17,
     "metadata": {},
     "output_type": "execute_result"
    },
    {
     "data": {
      "image/png": "[encoded data removed]",
      "text/plain": [
       "<Figure size 640x480 with 1 Axes>"
      ]
     },
     "metadata": {},
     "output_type": "display_data"
    }
   ],
   "source": [
    "plt.plot(BCprices, label= 'Bitcoin Price')\n",
    "plt.plot(predicted_price, label= 'Predicted Prices')\n",
    "plt.title('Predicting Bitcoin prices')\n",
    "plt.xlabel('5MIN time interval')\n",
    "plt.ylabel('Price')\n",
    "plt.legend()\n",
    "\n"
   ]
  }
 ],
 "metadata": {
  "colab": {
   "provenance": []
  },
  "kernelspec": {
   "display_name": "Python 3 (ipykernel)",
   "language": "python",
   "name": "python3"
  },
  "language_info": {
   "codemirror_mode": {
    "name": "ipython",
    "version": 3
   },
   "file_extension": ".py",
   "mimetype": "text/x-python",
   "name": "python",
   "nbconvert_exporter": "python",
   "pygments_lexer": "ipython3",
   "version": "3.10.9"
  }
 },
 "nbformat": 4,
 "nbformat_minor": 1
}
